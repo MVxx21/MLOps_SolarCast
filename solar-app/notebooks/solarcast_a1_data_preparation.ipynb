{
 "cells": [
  {
   "cell_type": "markdown",
   "id": "393e2e83-6c72-415d-9c17-5fb7514b2991",
   "metadata": {},
   "source": [
    "# Notebook 1/3 - Data Preparation\n",
    "\n",
    "### General objective of the project\n",
    "- Predict daily solar energy on next day for the city of Kraainem, in Belgium\n",
    "\n",
    "### Notebook objective\n",
    "- Download and clean raw data from solcast.com\n",
    "- Prepare data a format suitable for supervised ML models (instead of TS models)\n",
    "- Perform feature engineering to augment data"
   ]
  },
  {
   "cell_type": "markdown",
   "id": "283668f2-70e0-45d7-8b10-449e521559f3",
   "metadata": {},
   "source": [
    "### Import modules"
   ]
  },
  {
   "cell_type": "code",
   "execution_count": 1,
   "id": "ed7e8e07-a6aa-497f-be98-bfdb2201ec10",
   "metadata": {},
   "outputs": [],
   "source": [
    "# import modules\n",
    "import pandas as pd\n",
    "import numpy as np"
   ]
  },
  {
   "cell_type": "markdown",
   "id": "3f2cec8d-20f5-4531-bb2b-624e7350bb01",
   "metadata": {},
   "source": [
    "### Load and inspect data"
   ]
  },
  {
   "cell_type": "code",
   "execution_count": 2,
   "id": "bd72bd9b-669e-418e-8e73-da42df69b976",
   "metadata": {},
   "outputs": [],
   "source": [
    "# import raw dataset\n",
    "load_path = '../data/raw/'\n",
    "load_name = '50.861781_4.457452_Solcast_PT60M.csv'\n",
    "\n",
    "df = pd.read_csv(load_path + load_name)"
   ]
  },
  {
   "cell_type": "code",
   "execution_count": 3,
   "id": "8830cd55-68e4-4f85-ac47-0121a80cb384",
   "metadata": {},
   "outputs": [
    {
     "data": {
      "text/plain": [
       "Index(['PeriodEnd', 'PeriodStart', 'Period', 'AirTemp', 'Azimuth',\n",
       "       'CloudOpacity', 'DewpointTemp', 'Dhi', 'Dni', 'Ebh', 'Ghi',\n",
       "       'GtiFixedTilt', 'GtiTracking', 'PrecipitableWater', 'RelativeHumidity',\n",
       "       'SnowWater', 'SurfacePressure', 'WindDirection10m', 'WindSpeed10m',\n",
       "       'Zenith', 'AlbedoDaily'],\n",
       "      dtype='object')"
      ]
     },
     "execution_count": 3,
     "metadata": {},
     "output_type": "execute_result"
    }
   ],
   "source": [
    "# because of the download limit from Solcast.com, all the available features were included to avoid potential gaps\n",
    "df.columns"
   ]
  },
  {
   "cell_type": "code",
   "execution_count": 4,
   "id": "7a0ed35d-56ad-4d4a-8816-4549b3485f0b",
   "metadata": {},
   "outputs": [],
   "source": [
    "# create a working dataframe where, a priori, unwanted features are dropped\n",
    "sol = df.copy()\n",
    "sol.drop(\n",
    "    labels=[\n",
    "        'Period',\n",
    "        'Azimuth',\n",
    "        'GtiFixedTilt',\n",
    "        'GtiTracking',\n",
    "        'DewpointTemp',\n",
    "        'Ebh',\n",
    "        'SnowWater',\n",
    "        'Zenith',\n",
    "        'AlbedoDaily'\n",
    "    ],\n",
    "    axis=1,\n",
    "    inplace=True\n",
    ")"
   ]
  },
  {
   "cell_type": "code",
   "execution_count": 5,
   "id": "6674408e-4161-4e68-b55a-aff9a81fd011",
   "metadata": {},
   "outputs": [],
   "source": [
    "# update features names for ease of use\n",
    "cleaned_col_names_dict = {\n",
    "    'PeriodEnd': 'End',\n",
    "    'PeriodStart': 'Start',\n",
    "    'AirTemp': 'Temperature',\n",
    "    'WindDirection10m': 'WindDirection',\n",
    "    'WindSpeed10m': 'WindSpeed'\n",
    "}\n",
    "\n",
    "sol.rename(columns=cleaned_col_names_dict, inplace=True)"
   ]
  },
  {
   "cell_type": "code",
   "execution_count": 6,
   "id": "7f722d15-516c-43cb-92da-cc3720b7b651",
   "metadata": {},
   "outputs": [
    {
     "name": "stdout",
     "output_type": "stream",
     "text": [
      "<class 'pandas.core.frame.DataFrame'>\n",
      "RangeIndex: 25989 entries, 0 to 25988\n",
      "Data columns (total 12 columns):\n",
      " #   Column             Non-Null Count  Dtype  \n",
      "---  ------             --------------  -----  \n",
      " 0   End                25989 non-null  object \n",
      " 1   Start              25989 non-null  object \n",
      " 2   Temperature        25989 non-null  float64\n",
      " 3   CloudOpacity       25989 non-null  float64\n",
      " 4   Dhi                25989 non-null  int64  \n",
      " 5   Dni                25989 non-null  int64  \n",
      " 6   Ghi                25989 non-null  int64  \n",
      " 7   PrecipitableWater  25989 non-null  float64\n",
      " 8   RelativeHumidity   25989 non-null  float64\n",
      " 9   SurfacePressure    25989 non-null  float64\n",
      " 10  WindDirection      25989 non-null  int64  \n",
      " 11  WindSpeed          25989 non-null  float64\n",
      "dtypes: float64(6), int64(4), object(2)\n",
      "memory usage: 2.4+ MB\n"
     ]
    }
   ],
   "source": [
    "# check dataframe size and content\n",
    "sol.info()"
   ]
  },
  {
   "cell_type": "code",
   "execution_count": 7,
   "id": "79c99321-21b5-4f30-8c53-cddce9d908b9",
   "metadata": {},
   "outputs": [
    {
     "data": {
      "text/plain": [
       "0"
      ]
     },
     "execution_count": 7,
     "metadata": {},
     "output_type": "execute_result"
    }
   ],
   "source": [
    "# check for duplicates\n",
    "sol.duplicated().sum()"
   ]
  },
  {
   "cell_type": "code",
   "execution_count": 8,
   "id": "d3792d4b-aaff-4bc8-95b7-466bb6706a8f",
   "metadata": {},
   "outputs": [
    {
     "data": {
      "text/plain": [
       "End                  0\n",
       "Start                0\n",
       "Temperature          0\n",
       "CloudOpacity         0\n",
       "Dhi                  0\n",
       "Dni                  0\n",
       "Ghi                  0\n",
       "PrecipitableWater    0\n",
       "RelativeHumidity     0\n",
       "SurfacePressure      0\n",
       "WindDirection        0\n",
       "WindSpeed            0\n",
       "dtype: int64"
      ]
     },
     "execution_count": 8,
     "metadata": {},
     "output_type": "execute_result"
    }
   ],
   "source": [
    "# double-check for null values even though none are expected\n",
    "sol.isnull().sum()"
   ]
  },
  {
   "cell_type": "code",
   "execution_count": 9,
   "id": "7350b609-a6de-4be4-bd8e-95b2de1153b2",
   "metadata": {},
   "outputs": [],
   "source": [
    "# convert data to desired/proper format\n",
    "sol.End = pd.to_datetime(sol.End, utc=True)\n",
    "sol.Start = pd.to_datetime(sol.Start, utc=True)\n",
    "sol.WindDirection = sol.WindDirection.astype(float)"
   ]
  },
  {
   "cell_type": "code",
   "execution_count": 10,
   "id": "cc669365-59ed-4b40-ba15-8d5e27c73379",
   "metadata": {
    "tags": []
   },
   "outputs": [
    {
     "name": "stdout",
     "output_type": "stream",
     "text": [
      "<class 'pandas.core.frame.DataFrame'>\n",
      "RangeIndex: 25989 entries, 0 to 25988\n",
      "Data columns (total 12 columns):\n",
      " #   Column             Non-Null Count  Dtype              \n",
      "---  ------             --------------  -----              \n",
      " 0   End                25989 non-null  datetime64[ns, UTC]\n",
      " 1   Start              25989 non-null  datetime64[ns, UTC]\n",
      " 2   Temperature        25989 non-null  float64            \n",
      " 3   CloudOpacity       25989 non-null  float64            \n",
      " 4   Dhi                25989 non-null  int64              \n",
      " 5   Dni                25989 non-null  int64              \n",
      " 6   Ghi                25989 non-null  int64              \n",
      " 7   PrecipitableWater  25989 non-null  float64            \n",
      " 8   RelativeHumidity   25989 non-null  float64            \n",
      " 9   SurfacePressure    25989 non-null  float64            \n",
      " 10  WindDirection      25989 non-null  float64            \n",
      " 11  WindSpeed          25989 non-null  float64            \n",
      "dtypes: datetime64[ns, UTC](2), float64(7), int64(3)\n",
      "memory usage: 2.4 MB\n"
     ]
    }
   ],
   "source": [
    "# check and confirm dataframe size and content\n",
    "sol.info()"
   ]
  },
  {
   "cell_type": "code",
   "execution_count": 11,
   "id": "54b79314-1972-445b-97c6-a8c2c82d3aac",
   "metadata": {},
   "outputs": [
    {
     "data": {
      "text/html": [
       "<div>\n",
       "<style scoped>\n",
       "    .dataframe tbody tr th:only-of-type {\n",
       "        vertical-align: middle;\n",
       "    }\n",
       "\n",
       "    .dataframe tbody tr th {\n",
       "        vertical-align: top;\n",
       "    }\n",
       "\n",
       "    .dataframe thead th {\n",
       "        text-align: right;\n",
       "    }\n",
       "</style>\n",
       "<table border=\"1\" class=\"dataframe\">\n",
       "  <thead>\n",
       "    <tr style=\"text-align: right;\">\n",
       "      <th></th>\n",
       "      <th>End</th>\n",
       "      <th>Start</th>\n",
       "      <th>Temperature</th>\n",
       "      <th>CloudOpacity</th>\n",
       "      <th>Dhi</th>\n",
       "      <th>Dni</th>\n",
       "      <th>Ghi</th>\n",
       "      <th>PrecipitableWater</th>\n",
       "      <th>RelativeHumidity</th>\n",
       "      <th>SurfacePressure</th>\n",
       "      <th>WindDirection</th>\n",
       "      <th>WindSpeed</th>\n",
       "    </tr>\n",
       "  </thead>\n",
       "  <tbody>\n",
       "    <tr>\n",
       "      <th>1662</th>\n",
       "      <td>2019-03-10 08:00:00+00:00</td>\n",
       "      <td>2019-03-10 07:00:00+00:00</td>\n",
       "      <td>8.6</td>\n",
       "      <td>55.4</td>\n",
       "      <td>53</td>\n",
       "      <td>0</td>\n",
       "      <td>53</td>\n",
       "      <td>14.6</td>\n",
       "      <td>95.1</td>\n",
       "      <td>991.9</td>\n",
       "      <td>234.0</td>\n",
       "      <td>8.8</td>\n",
       "    </tr>\n",
       "    <tr>\n",
       "      <th>1698</th>\n",
       "      <td>2019-03-11 20:00:00+00:00</td>\n",
       "      <td>2019-03-11 19:00:00+00:00</td>\n",
       "      <td>4.0</td>\n",
       "      <td>0.2</td>\n",
       "      <td>0</td>\n",
       "      <td>0</td>\n",
       "      <td>0</td>\n",
       "      <td>6.7</td>\n",
       "      <td>63.1</td>\n",
       "      <td>1014.4</td>\n",
       "      <td>278.0</td>\n",
       "      <td>3.8</td>\n",
       "    </tr>\n",
       "    <tr>\n",
       "      <th>11265</th>\n",
       "      <td>2020-04-13 11:00:00+00:00</td>\n",
       "      <td>2020-04-13 10:00:00+00:00</td>\n",
       "      <td>9.6</td>\n",
       "      <td>49.2</td>\n",
       "      <td>362</td>\n",
       "      <td>6</td>\n",
       "      <td>366</td>\n",
       "      <td>12.9</td>\n",
       "      <td>57.1</td>\n",
       "      <td>1015.9</td>\n",
       "      <td>34.0</td>\n",
       "      <td>7.6</td>\n",
       "    </tr>\n",
       "    <tr>\n",
       "      <th>20169</th>\n",
       "      <td>2021-04-19 11:00:00+00:00</td>\n",
       "      <td>2021-04-19 10:00:00+00:00</td>\n",
       "      <td>13.0</td>\n",
       "      <td>13.2</td>\n",
       "      <td>339</td>\n",
       "      <td>398</td>\n",
       "      <td>627</td>\n",
       "      <td>15.0</td>\n",
       "      <td>54.6</td>\n",
       "      <td>1013.5</td>\n",
       "      <td>349.0</td>\n",
       "      <td>3.0</td>\n",
       "    </tr>\n",
       "    <tr>\n",
       "      <th>17988</th>\n",
       "      <td>2021-01-18 14:00:00+00:00</td>\n",
       "      <td>2021-01-18 13:00:00+00:00</td>\n",
       "      <td>5.7</td>\n",
       "      <td>65.7</td>\n",
       "      <td>80</td>\n",
       "      <td>0</td>\n",
       "      <td>80</td>\n",
       "      <td>10.9</td>\n",
       "      <td>84.9</td>\n",
       "      <td>1015.3</td>\n",
       "      <td>239.0</td>\n",
       "      <td>6.6</td>\n",
       "    </tr>\n",
       "  </tbody>\n",
       "</table>\n",
       "</div>"
      ],
      "text/plain": [
       "                            End                     Start  Temperature  \\\n",
       "1662  2019-03-10 08:00:00+00:00 2019-03-10 07:00:00+00:00          8.6   \n",
       "1698  2019-03-11 20:00:00+00:00 2019-03-11 19:00:00+00:00          4.0   \n",
       "11265 2020-04-13 11:00:00+00:00 2020-04-13 10:00:00+00:00          9.6   \n",
       "20169 2021-04-19 11:00:00+00:00 2021-04-19 10:00:00+00:00         13.0   \n",
       "17988 2021-01-18 14:00:00+00:00 2021-01-18 13:00:00+00:00          5.7   \n",
       "\n",
       "       CloudOpacity  Dhi  Dni  Ghi  PrecipitableWater  RelativeHumidity  \\\n",
       "1662           55.4   53    0   53               14.6              95.1   \n",
       "1698            0.2    0    0    0                6.7              63.1   \n",
       "11265          49.2  362    6  366               12.9              57.1   \n",
       "20169          13.2  339  398  627               15.0              54.6   \n",
       "17988          65.7   80    0   80               10.9              84.9   \n",
       "\n",
       "       SurfacePressure  WindDirection  WindSpeed  \n",
       "1662             991.9          234.0        8.8  \n",
       "1698            1014.4          278.0        3.8  \n",
       "11265           1015.9           34.0        7.6  \n",
       "20169           1013.5          349.0        3.0  \n",
       "17988           1015.3          239.0        6.6  "
      ]
     },
     "execution_count": 11,
     "metadata": {},
     "output_type": "execute_result"
    }
   ],
   "source": [
    "# check random entries of the dataframe, look for inconsistent values despite proper formats\n",
    "sol.sample(5)"
   ]
  },
  {
   "cell_type": "markdown",
   "id": "922caabb-ac73-44c7-a231-bfa1a11caeb2",
   "metadata": {},
   "source": [
    "### Transform data - feature engineering"
   ]
  },
  {
   "cell_type": "code",
   "execution_count": 12,
   "id": "2c4c5690-5a10-4955-9168-e2420a08df60",
   "metadata": {},
   "outputs": [],
   "source": [
    "# create features Date from Start to prepare for aggregation of the data with this feature\n",
    "sol['Date'] = pd.to_datetime(sol.Start).dt.date"
   ]
  },
  {
   "cell_type": "code",
   "execution_count": 13,
   "id": "4e042e3f-a288-4b9d-b8fd-4b430895a820",
   "metadata": {},
   "outputs": [
    {
     "data": {
      "text/plain": [
       "(13915, 13)"
      ]
     },
     "execution_count": 13,
     "metadata": {},
     "output_type": "execute_result"
    }
   ],
   "source": [
    "# drop entries without radiations, such as night records for example, to focus only on day-light records in aggregation\n",
    "sol.drop(\n",
    "    sol[\n",
    "        (sol.Dhi==0) &\n",
    "        (sol.Dni==0) &\n",
    "        (sol.Ghi==0)\n",
    "    ].index,\n",
    "    inplace=True\n",
    ")\n",
    "\n",
    "sol.shape"
   ]
  },
  {
   "cell_type": "code",
   "execution_count": 14,
   "id": "38fd77c8-44de-441f-bf91-d823567ec7b6",
   "metadata": {},
   "outputs": [
    {
     "data": {
      "text/plain": [
       "(1083, 10)"
      ]
     },
     "execution_count": 14,
     "metadata": {},
     "output_type": "execute_result"
    }
   ],
   "source": [
    "# aggregate the dataframe by Date values, i.e. day level (most granular level among Date, Year and Month feature)\n",
    "# set date feature as index\n",
    "sol = sol.groupby(\n",
    "    'Date',\n",
    "    as_index=True\n",
    ").agg(\n",
    "    Temp_t=pd.NamedAgg('Temperature', 'mean'),\n",
    "    CloudOp_t=pd.NamedAgg('CloudOpacity', 'mean'),\n",
    "    DHI_t=pd.NamedAgg('Dhi', 'mean'),\n",
    "    DNI_t=pd.NamedAgg('Dni', 'mean'),\n",
    "    GHI_t=pd.NamedAgg('Ghi', 'mean'),\n",
    "    PrecipW_t=pd.NamedAgg('PrecipitableWater', 'mean'),\n",
    "    Humid_t=pd.NamedAgg('RelativeHumidity', 'mean'),\n",
    "    Press_t=pd.NamedAgg('SurfacePressure', 'mean'),\n",
    "    WindDir_t=pd.NamedAgg('WindDirection', 'mean'),\n",
    "    WindSpd_t=pd.NamedAgg('WindSpeed', 'mean')\n",
    ")\n",
    "\n",
    "sol.shape"
   ]
  },
  {
   "cell_type": "code",
   "execution_count": 15,
   "id": "46702327-eb6f-419d-96c4-7308148ed609",
   "metadata": {},
   "outputs": [],
   "source": [
    "# change index format from date to datetime\n",
    "sol.index = pd.DatetimeIndex(sol.index)"
   ]
  },
  {
   "cell_type": "code",
   "execution_count": 16,
   "id": "c56d0a94-9334-448b-ac23-dcc8eaecdef0",
   "metadata": {},
   "outputs": [],
   "source": [
    "# create list of features to further engineer\n",
    "feat_eng_lst = list(sol.columns)"
   ]
  },
  {
   "cell_type": "code",
   "execution_count": 17,
   "id": "5da06c26-a59b-4fd7-9ca4-c1b2b78738e4",
   "metadata": {},
   "outputs": [],
   "source": [
    "# create features Year, Month, Year_month from Date (index)\n",
    "sol['Year_t'] = sol.index.year\n",
    "sol['Month_t'] = sol.index.month\n",
    "sol['Year_month_t'] = sol.index.to_period('M')"
   ]
  },
  {
   "cell_type": "code",
   "execution_count": 18,
   "id": "fd5fce16-931a-439e-b5ca-d18e14171cc9",
   "metadata": {},
   "outputs": [],
   "source": [
    "# create features min/max/mean/std of the last 7 days for each record\n",
    "stats_lst = ['min', 'max', 'mean', 'std']\n",
    "seven_days_rolling = sol[feat_eng_lst].rolling(7)\n",
    "sol_rolling = seven_days_rolling.agg(stats_lst)"
   ]
  },
  {
   "cell_type": "code",
   "execution_count": 19,
   "id": "f9d57e7c-b1f1-4b9c-bf39-2ab2f06d5b7a",
   "metadata": {},
   "outputs": [],
   "source": [
    "# create list with accurate names to rename the features of sol_rolling dataframe\n",
    "feat_lst_for_df = []\n",
    "\n",
    "for feat in feat_eng_lst:\n",
    "    for stats in stats_lst:\n",
    "        new_feat_name = feat + '_' + stats + '_wk'\n",
    "        feat_lst_for_df.append(new_feat_name)\n",
    "        \n",
    "# rename columns of the rolling dataframe\n",
    "sol_rolling.columns = feat_lst_for_df"
   ]
  },
  {
   "cell_type": "code",
   "execution_count": 20,
   "id": "9af20d56-e0d1-4832-92e8-2949cc75009e",
   "metadata": {},
   "outputs": [],
   "source": [
    "# create a series lag features from the target feature to use ML models instead of TS\n",
    "# initial data will become _t time, lag(-1) data become _t+1 time => predict t+1 using t features\n",
    "one_lag_day_GHI = sol.GHI_t.shift(-1).rename('GHI_t+1')"
   ]
  },
  {
   "cell_type": "code",
   "execution_count": 21,
   "id": "4ccdf46b-2cc9-4694-bb51-84b0184337ca",
   "metadata": {},
   "outputs": [],
   "source": [
    "# concatenate sol dataframe, sol_lagged and one_lag_day_GHI\n",
    "sol_temp = pd.concat(\n",
    "    [\n",
    "        sol,\n",
    "        sol_rolling,\n",
    "        one_lag_day_GHI\n",
    "    ],\n",
    "    axis=1\n",
    ")"
   ]
  },
  {
   "cell_type": "code",
   "execution_count": 22,
   "id": "267f4ec2-d71f-4687-b571-c0f9a3e8af0c",
   "metadata": {},
   "outputs": [],
   "source": [
    "# create list of _mean_wk features\n",
    "mean_wk_feat = [\n",
    "    'Temp_t_mean_wk',\n",
    "    'CloudOp_t_mean_wk',\n",
    "    'PrecipW_t_mean_wk',\n",
    "    'Humid_t_mean_wk',\n",
    "    'Press_t_mean_wk',\n",
    "    'WindDir_t_mean_wk',\n",
    "    'WindSpd_t_mean_wk',\n",
    "    'DNI_t_mean_wk',\n",
    "    'GHI_t_mean_wk',\n",
    "    'DHI_t_mean_wk'    \n",
    "]\n",
    "\n",
    "# create velocity features out of mean_wk features (rate of change)\n",
    "for feat in mean_wk_feat:\n",
    "    sol_temp[feat + '_velocity'] = sol_temp[feat] - sol_temp[feat].shift(1)"
   ]
  },
  {
   "cell_type": "code",
   "execution_count": 23,
   "id": "7ee236d3-c4fa-45be-ac8b-4ffd60ba6cd7",
   "metadata": {},
   "outputs": [
    {
     "data": {
      "text/plain": [
       "Index(['Temp_t', 'CloudOp_t', 'DHI_t', 'DNI_t', 'GHI_t', 'PrecipW_t',\n",
       "       'Humid_t', 'Press_t', 'WindDir_t', 'WindSpd_t', 'Year_t', 'Month_t',\n",
       "       'Year_month_t', 'Temp_t_min_wk', 'Temp_t_max_wk', 'Temp_t_mean_wk',\n",
       "       'Temp_t_std_wk', 'CloudOp_t_min_wk', 'CloudOp_t_max_wk',\n",
       "       'CloudOp_t_mean_wk', 'CloudOp_t_std_wk', 'DHI_t_min_wk', 'DHI_t_max_wk',\n",
       "       'DHI_t_mean_wk', 'DHI_t_std_wk', 'DNI_t_min_wk', 'DNI_t_max_wk',\n",
       "       'DNI_t_mean_wk', 'DNI_t_std_wk', 'GHI_t_min_wk', 'GHI_t_max_wk',\n",
       "       'GHI_t_mean_wk', 'GHI_t_std_wk', 'PrecipW_t_min_wk', 'PrecipW_t_max_wk',\n",
       "       'PrecipW_t_mean_wk', 'PrecipW_t_std_wk', 'Humid_t_min_wk',\n",
       "       'Humid_t_max_wk', 'Humid_t_mean_wk', 'Humid_t_std_wk', 'Press_t_min_wk',\n",
       "       'Press_t_max_wk', 'Press_t_mean_wk', 'Press_t_std_wk',\n",
       "       'WindDir_t_min_wk', 'WindDir_t_max_wk', 'WindDir_t_mean_wk',\n",
       "       'WindDir_t_std_wk', 'WindSpd_t_min_wk', 'WindSpd_t_max_wk',\n",
       "       'WindSpd_t_mean_wk', 'WindSpd_t_std_wk', 'GHI_t+1',\n",
       "       'Temp_t_mean_wk_velocity', 'CloudOp_t_mean_wk_velocity',\n",
       "       'PrecipW_t_mean_wk_velocity', 'Humid_t_mean_wk_velocity',\n",
       "       'Press_t_mean_wk_velocity', 'WindDir_t_mean_wk_velocity',\n",
       "       'WindSpd_t_mean_wk_velocity', 'DNI_t_mean_wk_velocity',\n",
       "       'GHI_t_mean_wk_velocity', 'DHI_t_mean_wk_velocity'],\n",
       "      dtype='object')"
      ]
     },
     "execution_count": 23,
     "metadata": {},
     "output_type": "execute_result"
    }
   ],
   "source": [
    "sol_temp.columns"
   ]
  },
  {
   "cell_type": "code",
   "execution_count": 24,
   "id": "3ee3131a-fe3f-4968-9607-57a558162b32",
   "metadata": {},
   "outputs": [],
   "source": [
    "# drop columns with NaN introduced becaused of lag and rolling features\n",
    "sol_temp.dropna(inplace=True)"
   ]
  },
  {
   "cell_type": "code",
   "execution_count": 25,
   "id": "860afcc3-1ac9-4b22-9c95-762ce7ae78a5",
   "metadata": {},
   "outputs": [],
   "source": [
    "# re-order features order for convenience\n",
    "sol_temp = sol_temp[\n",
    "    [\n",
    "        'Year_t',\n",
    "        'Month_t',\n",
    "        'Year_month_t',\n",
    "        'Temp_t',\n",
    "        'Temp_t_min_wk',\n",
    "        'Temp_t_max_wk',\n",
    "        'Temp_t_mean_wk',\n",
    "        'Temp_t_std_wk',\n",
    "        'Temp_t_mean_wk_velocity',\n",
    "        'CloudOp_t',\n",
    "        'CloudOp_t_min_wk',\n",
    "        'CloudOp_t_max_wk',\n",
    "        'CloudOp_t_mean_wk',\n",
    "        'CloudOp_t_std_wk',\n",
    "        'CloudOp_t_mean_wk_velocity',\n",
    "        'PrecipW_t',\n",
    "        'PrecipW_t_min_wk',\n",
    "        'PrecipW_t_max_wk',\n",
    "        'PrecipW_t_mean_wk',\n",
    "        'PrecipW_t_std_wk',\n",
    "        'PrecipW_t_mean_wk_velocity',\n",
    "        'Humid_t',\n",
    "        'Humid_t_min_wk',\n",
    "        'Humid_t_max_wk',\n",
    "        'Humid_t_mean_wk',\n",
    "        'Humid_t_std_wk',\n",
    "        'Humid_t_mean_wk_velocity',        \n",
    "        'Press_t',\n",
    "        'Press_t_min_wk',\n",
    "        'Press_t_max_wk',\n",
    "        'Press_t_mean_wk',\n",
    "        'Press_t_std_wk',\n",
    "        'Press_t_mean_wk_velocity',\n",
    "        'WindDir_t',\n",
    "        'WindDir_t_min_wk',\n",
    "        'WindDir_t_max_wk',\n",
    "        'WindDir_t_mean_wk',\n",
    "        'WindDir_t_mean_wk_velocity',\n",
    "        'WindDir_t_std_wk',\n",
    "        'WindSpd_t',\n",
    "        'WindSpd_t_min_wk',\n",
    "        'WindSpd_t_max_wk',\n",
    "        'WindSpd_t_mean_wk',\n",
    "        'WindSpd_t_std_wk',\n",
    "        'WindSpd_t_mean_wk_velocity',\n",
    "        'DNI_t',\n",
    "        'DNI_t_min_wk',\n",
    "        'DNI_t_max_wk',\n",
    "        'DNI_t_mean_wk',\n",
    "        'DNI_t_std_wk',\n",
    "        'DNI_t_mean_wk_velocity',\n",
    "        'DHI_t',\n",
    "        'DHI_t_min_wk',\n",
    "        'DHI_t_max_wk',\n",
    "        'DHI_t_mean_wk',\n",
    "        'DHI_t_std_wk',\n",
    "        'DHI_t_mean_wk_velocity',\n",
    "        'GHI_t',\n",
    "        'GHI_t_min_wk',\n",
    "        'GHI_t_max_wk',\n",
    "        'GHI_t_mean_wk',\n",
    "        'GHI_t_std_wk',\n",
    "        'GHI_t_mean_wk_velocity',\n",
    "        'GHI_t+1'\n",
    "    ]\n",
    "]"
   ]
  },
  {
   "cell_type": "code",
   "execution_count": 26,
   "id": "bfac4127-cf25-4efd-9a36-b01904353a13",
   "metadata": {
    "tags": []
   },
   "outputs": [
    {
     "name": "stdout",
     "output_type": "stream",
     "text": [
      "<class 'pandas.core.frame.DataFrame'>\n",
      "DatetimeIndex: 1075 entries, 2019-01-07 to 2021-12-16\n",
      "Data columns (total 64 columns):\n",
      " #   Column                      Non-Null Count  Dtype    \n",
      "---  ------                      --------------  -----    \n",
      " 0   Year_t                      1075 non-null   int64    \n",
      " 1   Month_t                     1075 non-null   int64    \n",
      " 2   Year_month_t                1075 non-null   period[M]\n",
      " 3   Temp_t                      1075 non-null   float64  \n",
      " 4   Temp_t_min_wk               1075 non-null   float64  \n",
      " 5   Temp_t_max_wk               1075 non-null   float64  \n",
      " 6   Temp_t_mean_wk              1075 non-null   float64  \n",
      " 7   Temp_t_std_wk               1075 non-null   float64  \n",
      " 8   Temp_t_mean_wk_velocity     1075 non-null   float64  \n",
      " 9   CloudOp_t                   1075 non-null   float64  \n",
      " 10  CloudOp_t_min_wk            1075 non-null   float64  \n",
      " 11  CloudOp_t_max_wk            1075 non-null   float64  \n",
      " 12  CloudOp_t_mean_wk           1075 non-null   float64  \n",
      " 13  CloudOp_t_std_wk            1075 non-null   float64  \n",
      " 14  CloudOp_t_mean_wk_velocity  1075 non-null   float64  \n",
      " 15  PrecipW_t                   1075 non-null   float64  \n",
      " 16  PrecipW_t_min_wk            1075 non-null   float64  \n",
      " 17  PrecipW_t_max_wk            1075 non-null   float64  \n",
      " 18  PrecipW_t_mean_wk           1075 non-null   float64  \n",
      " 19  PrecipW_t_std_wk            1075 non-null   float64  \n",
      " 20  PrecipW_t_mean_wk_velocity  1075 non-null   float64  \n",
      " 21  Humid_t                     1075 non-null   float64  \n",
      " 22  Humid_t_min_wk              1075 non-null   float64  \n",
      " 23  Humid_t_max_wk              1075 non-null   float64  \n",
      " 24  Humid_t_mean_wk             1075 non-null   float64  \n",
      " 25  Humid_t_std_wk              1075 non-null   float64  \n",
      " 26  Humid_t_mean_wk_velocity    1075 non-null   float64  \n",
      " 27  Press_t                     1075 non-null   float64  \n",
      " 28  Press_t_min_wk              1075 non-null   float64  \n",
      " 29  Press_t_max_wk              1075 non-null   float64  \n",
      " 30  Press_t_mean_wk             1075 non-null   float64  \n",
      " 31  Press_t_std_wk              1075 non-null   float64  \n",
      " 32  Press_t_mean_wk_velocity    1075 non-null   float64  \n",
      " 33  WindDir_t                   1075 non-null   float64  \n",
      " 34  WindDir_t_min_wk            1075 non-null   float64  \n",
      " 35  WindDir_t_max_wk            1075 non-null   float64  \n",
      " 36  WindDir_t_mean_wk           1075 non-null   float64  \n",
      " 37  WindDir_t_mean_wk_velocity  1075 non-null   float64  \n",
      " 38  WindDir_t_std_wk            1075 non-null   float64  \n",
      " 39  WindSpd_t                   1075 non-null   float64  \n",
      " 40  WindSpd_t_min_wk            1075 non-null   float64  \n",
      " 41  WindSpd_t_max_wk            1075 non-null   float64  \n",
      " 42  WindSpd_t_mean_wk           1075 non-null   float64  \n",
      " 43  WindSpd_t_std_wk            1075 non-null   float64  \n",
      " 44  WindSpd_t_mean_wk_velocity  1075 non-null   float64  \n",
      " 45  DNI_t                       1075 non-null   float64  \n",
      " 46  DNI_t_min_wk                1075 non-null   float64  \n",
      " 47  DNI_t_max_wk                1075 non-null   float64  \n",
      " 48  DNI_t_mean_wk               1075 non-null   float64  \n",
      " 49  DNI_t_std_wk                1075 non-null   float64  \n",
      " 50  DNI_t_mean_wk_velocity      1075 non-null   float64  \n",
      " 51  DHI_t                       1075 non-null   float64  \n",
      " 52  DHI_t_min_wk                1075 non-null   float64  \n",
      " 53  DHI_t_max_wk                1075 non-null   float64  \n",
      " 54  DHI_t_mean_wk               1075 non-null   float64  \n",
      " 55  DHI_t_std_wk                1075 non-null   float64  \n",
      " 56  DHI_t_mean_wk_velocity      1075 non-null   float64  \n",
      " 57  GHI_t                       1075 non-null   float64  \n",
      " 58  GHI_t_min_wk                1075 non-null   float64  \n",
      " 59  GHI_t_max_wk                1075 non-null   float64  \n",
      " 60  GHI_t_mean_wk               1075 non-null   float64  \n",
      " 61  GHI_t_std_wk                1075 non-null   float64  \n",
      " 62  GHI_t_mean_wk_velocity      1075 non-null   float64  \n",
      " 63  GHI_t+1                     1075 non-null   float64  \n",
      "dtypes: float64(61), int64(2), period[M](1)\n",
      "memory usage: 545.9 KB\n"
     ]
    }
   ],
   "source": [
    "# check dataframe size and content\n",
    "sol_temp.info()"
   ]
  },
  {
   "cell_type": "code",
   "execution_count": 27,
   "id": "60f0b3bb-2163-4d45-bf27-49019ba21a78",
   "metadata": {},
   "outputs": [
    {
     "data": {
      "text/html": [
       "<div>\n",
       "<style scoped>\n",
       "    .dataframe tbody tr th:only-of-type {\n",
       "        vertical-align: middle;\n",
       "    }\n",
       "\n",
       "    .dataframe tbody tr th {\n",
       "        vertical-align: top;\n",
       "    }\n",
       "\n",
       "    .dataframe thead th {\n",
       "        text-align: right;\n",
       "    }\n",
       "</style>\n",
       "<table border=\"1\" class=\"dataframe\">\n",
       "  <thead>\n",
       "    <tr style=\"text-align: right;\">\n",
       "      <th></th>\n",
       "      <th>Year_t</th>\n",
       "      <th>Month_t</th>\n",
       "      <th>Year_month_t</th>\n",
       "      <th>Temp_t</th>\n",
       "      <th>Temp_t_min_wk</th>\n",
       "      <th>Temp_t_max_wk</th>\n",
       "      <th>Temp_t_mean_wk</th>\n",
       "      <th>Temp_t_std_wk</th>\n",
       "      <th>Temp_t_mean_wk_velocity</th>\n",
       "      <th>CloudOp_t</th>\n",
       "      <th>...</th>\n",
       "      <th>DHI_t_mean_wk</th>\n",
       "      <th>DHI_t_std_wk</th>\n",
       "      <th>DHI_t_mean_wk_velocity</th>\n",
       "      <th>GHI_t</th>\n",
       "      <th>GHI_t_min_wk</th>\n",
       "      <th>GHI_t_max_wk</th>\n",
       "      <th>GHI_t_mean_wk</th>\n",
       "      <th>GHI_t_std_wk</th>\n",
       "      <th>GHI_t_mean_wk_velocity</th>\n",
       "      <th>GHI_t+1</th>\n",
       "    </tr>\n",
       "    <tr>\n",
       "      <th>Date</th>\n",
       "      <th></th>\n",
       "      <th></th>\n",
       "      <th></th>\n",
       "      <th></th>\n",
       "      <th></th>\n",
       "      <th></th>\n",
       "      <th></th>\n",
       "      <th></th>\n",
       "      <th></th>\n",
       "      <th></th>\n",
       "      <th></th>\n",
       "      <th></th>\n",
       "      <th></th>\n",
       "      <th></th>\n",
       "      <th></th>\n",
       "      <th></th>\n",
       "      <th></th>\n",
       "      <th></th>\n",
       "      <th></th>\n",
       "      <th></th>\n",
       "      <th></th>\n",
       "    </tr>\n",
       "  </thead>\n",
       "  <tbody>\n",
       "    <tr>\n",
       "      <th>2019-01-07</th>\n",
       "      <td>2019</td>\n",
       "      <td>1</td>\n",
       "      <td>2019-01</td>\n",
       "      <td>5.3875</td>\n",
       "      <td>3.1875</td>\n",
       "      <td>6.8625</td>\n",
       "      <td>4.622421</td>\n",
       "      <td>1.241887</td>\n",
       "      <td>-0.378571</td>\n",
       "      <td>72.0000</td>\n",
       "      <td>...</td>\n",
       "      <td>42.571429</td>\n",
       "      <td>7.780730</td>\n",
       "      <td>1.357143</td>\n",
       "      <td>42.25</td>\n",
       "      <td>32.5</td>\n",
       "      <td>53.25</td>\n",
       "      <td>43.051587</td>\n",
       "      <td>7.883205</td>\n",
       "      <td>1.357143</td>\n",
       "      <td>62.000000</td>\n",
       "    </tr>\n",
       "    <tr>\n",
       "      <th>2019-01-08</th>\n",
       "      <td>2019</td>\n",
       "      <td>1</td>\n",
       "      <td>2019-01</td>\n",
       "      <td>5.8125</td>\n",
       "      <td>3.1875</td>\n",
       "      <td>5.8125</td>\n",
       "      <td>4.472421</td>\n",
       "      <td>0.956951</td>\n",
       "      <td>-0.150000</td>\n",
       "      <td>56.0875</td>\n",
       "      <td>...</td>\n",
       "      <td>45.625000</td>\n",
       "      <td>8.937508</td>\n",
       "      <td>3.053571</td>\n",
       "      <td>62.00</td>\n",
       "      <td>32.5</td>\n",
       "      <td>62.00</td>\n",
       "      <td>46.623016</td>\n",
       "      <td>10.049912</td>\n",
       "      <td>3.571429</td>\n",
       "      <td>115.250000</td>\n",
       "    </tr>\n",
       "    <tr>\n",
       "      <th>2019-01-09</th>\n",
       "      <td>2019</td>\n",
       "      <td>1</td>\n",
       "      <td>2019-01</td>\n",
       "      <td>3.9750</td>\n",
       "      <td>3.1875</td>\n",
       "      <td>5.8125</td>\n",
       "      <td>4.441865</td>\n",
       "      <td>0.970828</td>\n",
       "      <td>-0.030556</td>\n",
       "      <td>25.5000</td>\n",
       "      <td>...</td>\n",
       "      <td>50.958333</td>\n",
       "      <td>17.446993</td>\n",
       "      <td>5.333333</td>\n",
       "      <td>115.25</td>\n",
       "      <td>32.5</td>\n",
       "      <td>115.25</td>\n",
       "      <td>56.150794</td>\n",
       "      <td>27.917983</td>\n",
       "      <td>9.527778</td>\n",
       "      <td>65.666667</td>\n",
       "    </tr>\n",
       "  </tbody>\n",
       "</table>\n",
       "<p>3 rows × 64 columns</p>\n",
       "</div>"
      ],
      "text/plain": [
       "            Year_t  Month_t Year_month_t  Temp_t  Temp_t_min_wk  \\\n",
       "Date                                                              \n",
       "2019-01-07    2019        1      2019-01  5.3875         3.1875   \n",
       "2019-01-08    2019        1      2019-01  5.8125         3.1875   \n",
       "2019-01-09    2019        1      2019-01  3.9750         3.1875   \n",
       "\n",
       "            Temp_t_max_wk  Temp_t_mean_wk  Temp_t_std_wk  \\\n",
       "Date                                                       \n",
       "2019-01-07         6.8625        4.622421       1.241887   \n",
       "2019-01-08         5.8125        4.472421       0.956951   \n",
       "2019-01-09         5.8125        4.441865       0.970828   \n",
       "\n",
       "            Temp_t_mean_wk_velocity  CloudOp_t  ...  DHI_t_mean_wk  \\\n",
       "Date                                            ...                  \n",
       "2019-01-07                -0.378571    72.0000  ...      42.571429   \n",
       "2019-01-08                -0.150000    56.0875  ...      45.625000   \n",
       "2019-01-09                -0.030556    25.5000  ...      50.958333   \n",
       "\n",
       "            DHI_t_std_wk  DHI_t_mean_wk_velocity   GHI_t  GHI_t_min_wk  \\\n",
       "Date                                                                     \n",
       "2019-01-07      7.780730                1.357143   42.25          32.5   \n",
       "2019-01-08      8.937508                3.053571   62.00          32.5   \n",
       "2019-01-09     17.446993                5.333333  115.25          32.5   \n",
       "\n",
       "            GHI_t_max_wk  GHI_t_mean_wk  GHI_t_std_wk  GHI_t_mean_wk_velocity  \\\n",
       "Date                                                                            \n",
       "2019-01-07         53.25      43.051587      7.883205                1.357143   \n",
       "2019-01-08         62.00      46.623016     10.049912                3.571429   \n",
       "2019-01-09        115.25      56.150794     27.917983                9.527778   \n",
       "\n",
       "               GHI_t+1  \n",
       "Date                    \n",
       "2019-01-07   62.000000  \n",
       "2019-01-08  115.250000  \n",
       "2019-01-09   65.666667  \n",
       "\n",
       "[3 rows x 64 columns]"
      ]
     },
     "execution_count": 27,
     "metadata": {},
     "output_type": "execute_result"
    }
   ],
   "source": [
    "# check first entries of the dataframe, look for inconsistent values despite proper formats\n",
    "sol_temp.head(3)"
   ]
  },
  {
   "cell_type": "markdown",
   "id": "8e82dc1d-a259-4750-8210-965c29cc97c3",
   "metadata": {},
   "source": [
    "### Save data"
   ]
  },
  {
   "cell_type": "code",
   "execution_count": 28,
   "id": "57e07b5e-94ef-488e-94c1-7316861cdab1",
   "metadata": {},
   "outputs": [],
   "source": [
    "# save formated dataset\n",
    "save_path = '../data/formated/'\n",
    "save_name = 'sol_temp.csv'\n",
    "sol_temp.to_csv(save_path + save_name)"
   ]
  }
 ],
 "metadata": {
  "kernelspec": {
   "display_name": "Python 3 (ipykernel)",
   "language": "python",
   "name": "python3"
  },
  "language_info": {
   "codemirror_mode": {
    "name": "ipython",
    "version": 3
   },
   "file_extension": ".py",
   "mimetype": "text/x-python",
   "name": "python",
   "nbconvert_exporter": "python",
   "pygments_lexer": "ipython3",
   "version": "3.9.2"
  }
 },
 "nbformat": 4,
 "nbformat_minor": 5
}
