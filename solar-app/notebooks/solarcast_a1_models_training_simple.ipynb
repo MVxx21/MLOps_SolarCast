{
 "cells": [
  {
   "cell_type": "markdown",
   "id": "4f9a0187-4b5a-42b3-aeae-e8154f877f3a",
   "metadata": {
    "tags": []
   },
   "source": [
    "# Notebook 3/3 - Models training & dev.\n",
    "\n",
    "### General objective of the project\n",
    "- Predict daily solar energy on next day for the city of Kraainem, in Belgium\n",
    "\n",
    "### Notebook objective\n",
    "- Train ML algorythms to predict next day 'daily solar energy'\n",
    "- Select best performing algorythm"
   ]
  },
  {
   "cell_type": "markdown",
   "id": "d9ec14ce-6eba-4071-8a2c-a04c68ce63e2",
   "metadata": {},
   "source": [
    "### Import  modules"
   ]
  },
  {
   "cell_type": "code",
   "execution_count": null,
   "id": "4ebafbbb-a113-43df-a6c4-a69ec14fd940",
   "metadata": {},
   "outputs": [],
   "source": [
    "# import modules\n",
    "import pandas as pd\n",
    "import numpy as np\n",
    "\n",
    "from matplotlib import pyplot as plt\n",
    "import seaborn as sns\n",
    "\n",
    "# import modules for models training and evaluation \n",
    "from sklearn.linear_model import LinearRegression\n",
    "from sklearn.tree import DecisionTreeRegressor\n",
    "from sklearn.ensemble import RandomForestRegressor\n",
    "\n",
    "from sklearn.pipeline import Pipeline\n",
    "from sklearn.preprocessing import StandardScaler\n",
    "\n",
    "from sklearn.utils import shuffle\n",
    "from sklearn.metrics import mean_squared_error"
   ]
  },
  {
   "cell_type": "markdown",
   "id": "9881ac3d-2e28-4632-b073-96dde1f2940d",
   "metadata": {},
   "source": [
    "### Load data"
   ]
  },
  {
   "cell_type": "code",
   "execution_count": 2,
   "id": "13a4018c-8fdc-4b3c-a9f2-ba7bfd45be50",
   "metadata": {},
   "outputs": [],
   "source": [
    "# import cleaned and formated data\n",
    "load_path = '../data/formated/'\n",
    "sol_fin_small_load_name = 'sol_fin_small.csv'\n",
    "\n",
    "sol_s = pd.read_csv(\n",
    "    load_path + sol_fin_small_load_name,\n",
    "    index_col=0\n",
    ")"
   ]
  },
  {
   "cell_type": "code",
   "execution_count": 3,
   "id": "198dc0d8-d488-48fd-bf77-6648c6f8b473",
   "metadata": {},
   "outputs": [
    {
     "data": {
      "text/html": [
       "<div>\n",
       "<style scoped>\n",
       "    .dataframe tbody tr th:only-of-type {\n",
       "        vertical-align: middle;\n",
       "    }\n",
       "\n",
       "    .dataframe tbody tr th {\n",
       "        vertical-align: top;\n",
       "    }\n",
       "\n",
       "    .dataframe thead th {\n",
       "        text-align: right;\n",
       "    }\n",
       "</style>\n",
       "<table border=\"1\" class=\"dataframe\">\n",
       "  <thead>\n",
       "    <tr style=\"text-align: right;\">\n",
       "      <th></th>\n",
       "      <th>Year_month_t</th>\n",
       "      <th>Temp_t</th>\n",
       "      <th>CloudOp_t</th>\n",
       "      <th>CloudOp_t_mean_wk</th>\n",
       "      <th>Humid_t</th>\n",
       "      <th>Humid_t_min_wk</th>\n",
       "      <th>Humid_t_max_wk</th>\n",
       "      <th>Humid_t_mean_wk</th>\n",
       "      <th>Press_t</th>\n",
       "      <th>Press_t_min_wk</th>\n",
       "      <th>...</th>\n",
       "      <th>DHI_t</th>\n",
       "      <th>DHI_t_min_wk</th>\n",
       "      <th>DHI_t_max_wk</th>\n",
       "      <th>DHI_t_mean_wk</th>\n",
       "      <th>DHI_t_std_wk</th>\n",
       "      <th>GHI_t</th>\n",
       "      <th>GHI_t_max_wk</th>\n",
       "      <th>GHI_t_mean_wk</th>\n",
       "      <th>GHI_t_std_wk</th>\n",
       "      <th>GHI_t+1</th>\n",
       "    </tr>\n",
       "    <tr>\n",
       "      <th>Date</th>\n",
       "      <th></th>\n",
       "      <th></th>\n",
       "      <th></th>\n",
       "      <th></th>\n",
       "      <th></th>\n",
       "      <th></th>\n",
       "      <th></th>\n",
       "      <th></th>\n",
       "      <th></th>\n",
       "      <th></th>\n",
       "      <th></th>\n",
       "      <th></th>\n",
       "      <th></th>\n",
       "      <th></th>\n",
       "      <th></th>\n",
       "      <th></th>\n",
       "      <th></th>\n",
       "      <th></th>\n",
       "      <th></th>\n",
       "      <th></th>\n",
       "      <th></th>\n",
       "    </tr>\n",
       "  </thead>\n",
       "  <tbody>\n",
       "    <tr>\n",
       "      <th>2019-01-07</th>\n",
       "      <td>2019-01</td>\n",
       "      <td>5.3875</td>\n",
       "      <td>72.0000</td>\n",
       "      <td>63.066468</td>\n",
       "      <td>94.2875</td>\n",
       "      <td>73.922222</td>\n",
       "      <td>94.7125</td>\n",
       "      <td>87.234722</td>\n",
       "      <td>1021.9500</td>\n",
       "      <td>1020.6875</td>\n",
       "      <td>...</td>\n",
       "      <td>42.25</td>\n",
       "      <td>32.5</td>\n",
       "      <td>52.5</td>\n",
       "      <td>42.571429</td>\n",
       "      <td>7.780730</td>\n",
       "      <td>42.25</td>\n",
       "      <td>53.25</td>\n",
       "      <td>43.051587</td>\n",
       "      <td>7.883205</td>\n",
       "      <td>62.000000</td>\n",
       "    </tr>\n",
       "    <tr>\n",
       "      <th>2019-01-08</th>\n",
       "      <td>2019-01</td>\n",
       "      <td>5.8125</td>\n",
       "      <td>56.0875</td>\n",
       "      <td>61.939683</td>\n",
       "      <td>82.7750</td>\n",
       "      <td>73.922222</td>\n",
       "      <td>94.2875</td>\n",
       "      <td>85.529365</td>\n",
       "      <td>1010.2875</td>\n",
       "      <td>1010.2875</td>\n",
       "      <td>...</td>\n",
       "      <td>57.50</td>\n",
       "      <td>32.5</td>\n",
       "      <td>57.5</td>\n",
       "      <td>45.625000</td>\n",
       "      <td>8.937508</td>\n",
       "      <td>62.00</td>\n",
       "      <td>62.00</td>\n",
       "      <td>46.623016</td>\n",
       "      <td>10.049912</td>\n",
       "      <td>115.250000</td>\n",
       "    </tr>\n",
       "    <tr>\n",
       "      <th>2019-01-09</th>\n",
       "      <td>2019-01</td>\n",
       "      <td>3.9750</td>\n",
       "      <td>25.5000</td>\n",
       "      <td>59.109524</td>\n",
       "      <td>81.2875</td>\n",
       "      <td>80.833333</td>\n",
       "      <td>94.2875</td>\n",
       "      <td>86.581548</td>\n",
       "      <td>1011.2375</td>\n",
       "      <td>1010.2875</td>\n",
       "      <td>...</td>\n",
       "      <td>85.00</td>\n",
       "      <td>32.5</td>\n",
       "      <td>85.0</td>\n",
       "      <td>50.958333</td>\n",
       "      <td>17.446993</td>\n",
       "      <td>115.25</td>\n",
       "      <td>115.25</td>\n",
       "      <td>56.150794</td>\n",
       "      <td>27.917983</td>\n",
       "      <td>65.666667</td>\n",
       "    </tr>\n",
       "  </tbody>\n",
       "</table>\n",
       "<p>3 rows × 27 columns</p>\n",
       "</div>"
      ],
      "text/plain": [
       "           Year_month_t  Temp_t  CloudOp_t  CloudOp_t_mean_wk  Humid_t  \\\n",
       "Date                                                                     \n",
       "2019-01-07      2019-01  5.3875    72.0000          63.066468  94.2875   \n",
       "2019-01-08      2019-01  5.8125    56.0875          61.939683  82.7750   \n",
       "2019-01-09      2019-01  3.9750    25.5000          59.109524  81.2875   \n",
       "\n",
       "            Humid_t_min_wk  Humid_t_max_wk  Humid_t_mean_wk    Press_t  \\\n",
       "Date                                                                     \n",
       "2019-01-07       73.922222         94.7125        87.234722  1021.9500   \n",
       "2019-01-08       73.922222         94.2875        85.529365  1010.2875   \n",
       "2019-01-09       80.833333         94.2875        86.581548  1011.2375   \n",
       "\n",
       "            Press_t_min_wk  ...  DHI_t  DHI_t_min_wk  DHI_t_max_wk  \\\n",
       "Date                        ...                                      \n",
       "2019-01-07       1020.6875  ...  42.25          32.5          52.5   \n",
       "2019-01-08       1010.2875  ...  57.50          32.5          57.5   \n",
       "2019-01-09       1010.2875  ...  85.00          32.5          85.0   \n",
       "\n",
       "            DHI_t_mean_wk  DHI_t_std_wk   GHI_t  GHI_t_max_wk  GHI_t_mean_wk  \\\n",
       "Date                                                                           \n",
       "2019-01-07      42.571429      7.780730   42.25         53.25      43.051587   \n",
       "2019-01-08      45.625000      8.937508   62.00         62.00      46.623016   \n",
       "2019-01-09      50.958333     17.446993  115.25        115.25      56.150794   \n",
       "\n",
       "            GHI_t_std_wk     GHI_t+1  \n",
       "Date                                  \n",
       "2019-01-07      7.883205   62.000000  \n",
       "2019-01-08     10.049912  115.250000  \n",
       "2019-01-09     27.917983   65.666667  \n",
       "\n",
       "[3 rows x 27 columns]"
      ]
     },
     "execution_count": 3,
     "metadata": {},
     "output_type": "execute_result"
    }
   ],
   "source": [
    "# check dataframe first rows\n",
    "sol_s.head(3)"
   ]
  },
  {
   "cell_type": "code",
   "execution_count": 4,
   "id": "79ce879a-c0c1-40d1-bb95-b14ab9ad1468",
   "metadata": {},
   "outputs": [],
   "source": [
    "# drop Year_month_t\n",
    "sol_s.drop(\n",
    "    labels='Year_month_t',\n",
    "    axis=1,\n",
    "    inplace=True\n",
    ")"
   ]
  },
  {
   "cell_type": "code",
   "execution_count": 5,
   "id": "6e2cfd0f-b70d-4f2e-b57d-638040579df8",
   "metadata": {},
   "outputs": [
    {
     "name": "stdout",
     "output_type": "stream",
     "text": [
      "<class 'pandas.core.frame.DataFrame'>\n",
      "Index: 1075 entries, 2019-01-07 to 2021-12-16\n",
      "Data columns (total 26 columns):\n",
      " #   Column             Non-Null Count  Dtype  \n",
      "---  ------             --------------  -----  \n",
      " 0   Temp_t             1075 non-null   float64\n",
      " 1   CloudOp_t          1075 non-null   float64\n",
      " 2   CloudOp_t_mean_wk  1075 non-null   float64\n",
      " 3   Humid_t            1075 non-null   float64\n",
      " 4   Humid_t_min_wk     1075 non-null   float64\n",
      " 5   Humid_t_max_wk     1075 non-null   float64\n",
      " 6   Humid_t_mean_wk    1075 non-null   float64\n",
      " 7   Press_t            1075 non-null   float64\n",
      " 8   Press_t_min_wk     1075 non-null   float64\n",
      " 9   Press_t_mean_wk    1075 non-null   float64\n",
      " 10  Press_t_std_wk     1075 non-null   float64\n",
      " 11  WindSpd_t          1075 non-null   float64\n",
      " 12  WindSpd_t_mean_wk  1075 non-null   float64\n",
      " 13  WindSpd_t_std_wk   1075 non-null   float64\n",
      " 14  DNI_t              1075 non-null   float64\n",
      " 15  DNI_t_min_wk       1075 non-null   float64\n",
      " 16  DHI_t              1075 non-null   float64\n",
      " 17  DHI_t_min_wk       1075 non-null   float64\n",
      " 18  DHI_t_max_wk       1075 non-null   float64\n",
      " 19  DHI_t_mean_wk      1075 non-null   float64\n",
      " 20  DHI_t_std_wk       1075 non-null   float64\n",
      " 21  GHI_t              1075 non-null   float64\n",
      " 22  GHI_t_max_wk       1075 non-null   float64\n",
      " 23  GHI_t_mean_wk      1075 non-null   float64\n",
      " 24  GHI_t_std_wk       1075 non-null   float64\n",
      " 25  GHI_t+1            1075 non-null   float64\n",
      "dtypes: float64(26)\n",
      "memory usage: 226.8+ KB\n"
     ]
    }
   ],
   "source": [
    "# check that all features are in proper format for ML algo\n",
    "sol_s.info()"
   ]
  },
  {
   "cell_type": "markdown",
   "id": "b202d78c-1022-47af-832d-3b872b155555",
   "metadata": {},
   "source": [
    "### Split training, cross-validation and test data"
   ]
  },
  {
   "cell_type": "code",
   "execution_count": 6,
   "id": "be6c5746-7a42-49df-92aa-c943f598d5fb",
   "metadata": {},
   "outputs": [],
   "source": [
    "# shuffle dataset\n",
    "sol_s = shuffle(sol_s)"
   ]
  },
  {
   "cell_type": "code",
   "execution_count": 7,
   "id": "1f54d1cc-44e1-4f45-96ce-6c95827fa2a6",
   "metadata": {},
   "outputs": [],
   "source": [
    "# split dataset into train, cross-validation and test subsets with the following proportions: 60/20/20\n",
    "train_sol, cval_sol, test_sol = np.split(\n",
    "    sol_s,\n",
    "    [\n",
    "        int(len(sol_s)*.6),\n",
    "        int(len(sol_s)*.8)\n",
    "    ]\n",
    ")"
   ]
  },
  {
   "cell_type": "code",
   "execution_count": 8,
   "id": "50bd8f18-0f06-41ad-b275-22d7ff6040a3",
   "metadata": {},
   "outputs": [],
   "source": [
    "# save the 3 datasets\n",
    "save_path = '../data/ml_ready/'\n",
    "train_sol_save_name = 'train_sol.csv'\n",
    "cval_sol_save_name = 'cval_sol.csv'\n",
    "test_sol_save_name = 'test_sol.csv'\n",
    "\n",
    "train_sol.to_csv(save_path + train_sol_save_name)\n",
    "cval_sol.to_csv(save_path + cval_sol_save_name)\n",
    "test_sol.to_csv(save_path + test_sol_save_name)"
   ]
  },
  {
   "cell_type": "markdown",
   "id": "14c8e8bb-1b6b-4213-be65-46ad4c84c826",
   "metadata": {},
   "source": [
    "### Split dependant/independant features"
   ]
  },
  {
   "cell_type": "code",
   "execution_count": 9,
   "id": "4df5cafc-0ee5-434f-a1ca-0759e76758ec",
   "metadata": {},
   "outputs": [],
   "source": [
    "# create a function to separate target feature and independant features\n",
    "def target_and_inde_feat_sets(df, feat):\n",
    "    ind_feats = df.drop([feat], axis=1)\n",
    "    dep_feat = df[feat]\n",
    "    return ind_feats, dep_feat"
   ]
  },
  {
   "cell_type": "code",
   "execution_count": 10,
   "id": "811a896f-2a4a-42d2-a940-4b7ec32f84c1",
   "metadata": {},
   "outputs": [],
   "source": [
    "# create target feature and independant features series/dataframe for each subset\n",
    "X_train, y_train = target_and_inde_feat_sets(train_sol, 'GHI_t+1')\n",
    "X_cval, y_cval = target_and_inde_feat_sets(cval_sol, 'GHI_t+1')\n",
    "X_test, y_test = target_and_inde_feat_sets(test_sol, 'GHI_t+1')"
   ]
  },
  {
   "cell_type": "markdown",
   "id": "f1ad15f7-6f0f-40d6-bee9-979869458bbb",
   "metadata": {},
   "source": [
    "### Train models"
   ]
  },
  {
   "cell_type": "code",
   "execution_count": 11,
   "id": "966faf2a-5c3e-48dd-b612-0bfbd546b4a1",
   "metadata": {},
   "outputs": [],
   "source": [
    "# create simple pipelines for the 3 models to test\n",
    "# Steps includes:\n",
    "# 1. Preprocessing with StandardScaler (only for Linear & Ridge regressors)\n",
    "# 2. Training models on train sets"
   ]
  },
  {
   "cell_type": "code",
   "execution_count": 12,
   "id": "1473bc98-2a6c-4b01-af0d-a0f9ad1f94fb",
   "metadata": {},
   "outputs": [],
   "source": [
    "# Linear Regression pipeline\n",
    "lr_pipeline = Pipeline(\n",
    "    [\n",
    "        ('Scaler', StandardScaler()),\n",
    "        ('Training', LinearRegression()),\n",
    "    ]\n",
    ")\n",
    "\n",
    "# Decision Tree Regressor pipeline\n",
    "dtr_pipeline = Pipeline(\n",
    "    [\n",
    "        ('Scaler', StandardScaler()),\n",
    "        ('Training', DecisionTreeRegressor())\n",
    "    ]\n",
    ")\n",
    "\n",
    "# Random Forest Regressor pipeline\n",
    "rfr_pipeline = Pipeline(\n",
    "    [\n",
    "        ('Scaler', StandardScaler()),\n",
    "        ('Training', RandomForestRegressor())\n",
    "    ]\n",
    ")"
   ]
  },
  {
   "cell_type": "code",
   "execution_count": 13,
   "id": "6c09c887-a2ab-47c4-9d4a-b44f0723202b",
   "metadata": {},
   "outputs": [],
   "source": [
    "# create a list with the pipelines\n",
    "reg_pipelines = [lr_pipeline, dtr_pipeline, rfr_pipeline]"
   ]
  },
  {
   "cell_type": "code",
   "execution_count": 14,
   "id": "49f350ac-1867-4695-8bac-70d90a878a0f",
   "metadata": {},
   "outputs": [],
   "source": [
    "# metrics to select best performing model\n",
    "r2_score = 0\n",
    "mse = 0\n",
    "regressor = 0\n",
    "pipeline = ''"
   ]
  },
  {
   "cell_type": "code",
   "execution_count": 15,
   "id": "51dbf41a-4863-4f92-9013-58e05c67435a",
   "metadata": {},
   "outputs": [
    {
     "name": "stdout",
     "output_type": "stream",
     "text": [
      "\n",
      "Linear Regression mse: 5543.806800314607\n",
      "Linear Regression r2 score: 0.6727863856209046\n",
      "\n",
      "Decision Tree Regressor mse: 12009.005642330716\n",
      "Decision Tree Regressor r2 score: 0.29118919852997305\n",
      "\n",
      "Random Forest Regessor mse: 5636.345007024059\n",
      "Random Forest Regessor r2 score: 0.6673244779144816\n"
     ]
    }
   ],
   "source": [
    "# dictionary of pipelines and models\n",
    "reg_pipelines_dict = {\n",
    "    0: 'Linear Regression',\n",
    "    1: 'Decision Tree Regressor',\n",
    "    2: 'Random Forest Regessor'\n",
    "}\n",
    "\n",
    "# fit pipelines\n",
    "for pipe in reg_pipelines:\n",
    "    pipe.fit(X_train, y_train)\n",
    "    \n",
    "for i, model in enumerate(reg_pipelines):\n",
    "    print('\\n{} mse: {}'.format(reg_pipelines_dict[i], mean_squared_error(model.predict(X_cval), y_cval)))\n",
    "    print('{} r2 score: {}'.format(reg_pipelines_dict[i], model.score(X_cval, y_cval)))"
   ]
  },
  {
   "cell_type": "markdown",
   "id": "703e8949-34a4-4657-b2f7-5d25714345eb",
   "metadata": {},
   "source": [
    "### Select best performing model"
   ]
  },
  {
   "cell_type": "code",
   "execution_count": 16,
   "id": "9539e5a3-c4aa-4e11-8ca3-64429a93e40f",
   "metadata": {},
   "outputs": [
    {
     "name": "stdout",
     "output_type": "stream",
     "text": [
      "Best performing Regressor: Linear Regression\n"
     ]
    }
   ],
   "source": [
    "# select best performing model\n",
    "for i, model in enumerate(reg_pipelines):\n",
    "    cost = mean_squared_error(model.predict(X_cval), y_cval)\n",
    "    if cost < mse:\n",
    "        mse = cost\n",
    "        pipeline = model\n",
    "        regressor = i\n",
    "print('Best performing Regressor: {}'.format(reg_pipelines_dict[regressor]))\n",
    "        "
   ]
  }
 ],
 "metadata": {
  "kernelspec": {
   "display_name": "Python 3 (ipykernel)",
   "language": "python",
   "name": "python3"
  },
  "language_info": {
   "codemirror_mode": {
    "name": "ipython",
    "version": 3
   },
   "file_extension": ".py",
   "mimetype": "text/x-python",
   "name": "python",
   "nbconvert_exporter": "python",
   "pygments_lexer": "ipython3",
   "version": "3.9.2"
  }
 },
 "nbformat": 4,
 "nbformat_minor": 5
}
