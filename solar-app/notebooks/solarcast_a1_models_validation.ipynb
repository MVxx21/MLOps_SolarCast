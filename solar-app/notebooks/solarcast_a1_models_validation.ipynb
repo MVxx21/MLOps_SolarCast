{
 "cells": [
  {
   "cell_type": "markdown",
   "id": "c362e90a-f3e5-4cb3-be95-9e22f49b12e5",
   "metadata": {},
   "source": [
    "### Import modules"
   ]
  },
  {
   "cell_type": "code",
   "execution_count": 1,
   "id": "06ee176b-4d5c-4fc9-b4e5-79e0d1c336a0",
   "metadata": {},
   "outputs": [],
   "source": [
    "# import modules\n",
    "import numpy as np\n",
    "import pandas as pd\n",
    "import seaborn as sns\n",
    "import matplotlib.pyplot as plt\n",
    "\n",
    "# import modules for models training and evaluation \n",
    "from sklearn.pipeline import Pipeline\n",
    "from sklearn.preprocessing import StandardScaler\n",
    "from sklearn.linear_model import LinearRegression\n",
    "from sklearn.ensemble import RandomForestRegressor\n",
    "from sklearn.ensemble import GradientBoostingRegressor\n",
    "from sklearn.metrics import mean_squared_error"
   ]
  },
  {
   "cell_type": "markdown",
   "id": "655fc481-d803-41d7-997a-1a52293f7be7",
   "metadata": {},
   "source": [
    "### Load data"
   ]
  },
  {
   "cell_type": "code",
   "execution_count": null,
   "id": "edd83a9f-a741-4353-8fe1-19b1ca71f6b4",
   "metadata": {},
   "outputs": [],
   "source": [
    "# import ml ready data\n",
    "load_path = '../data/ml_ready/'\n",
    "train_load_name = 'train_sol.csv'\n",
    "test_load_name = 'test_sol.csv'\n",
    "\n",
    "# train data\n",
    "\n",
    "\n",
    "# test data\n",
    "sol_s = pd.read_csv(\n",
    "    load_path + sol_fin_small_load_name,\n",
    "    index_col=0\n",
    ")"
   ]
  },
  {
   "cell_type": "code",
   "execution_count": null,
   "id": "d61ea3d8-8347-4564-9a54-0fba158af8ec",
   "metadata": {},
   "outputs": [],
   "source": []
  },
  {
   "cell_type": "code",
   "execution_count": null,
   "id": "ee17a13d-b1df-4338-b949-0e2763974b43",
   "metadata": {},
   "outputs": [],
   "source": []
  },
  {
   "cell_type": "code",
   "execution_count": null,
   "id": "9c17aa2c-afca-41d2-a9d5-6a39b4785387",
   "metadata": {},
   "outputs": [],
   "source": []
  },
  {
   "cell_type": "code",
   "execution_count": null,
   "id": "bfface5e-7a05-40c4-afed-c6e2f9527727",
   "metadata": {},
   "outputs": [],
   "source": []
  },
  {
   "cell_type": "code",
   "execution_count": null,
   "id": "331493fc-3f9c-496b-a2f3-bceb8ff68742",
   "metadata": {},
   "outputs": [],
   "source": []
  },
  {
   "cell_type": "code",
   "execution_count": null,
   "id": "25b20c34-5200-410d-9da1-75c145d9b30f",
   "metadata": {},
   "outputs": [],
   "source": []
  },
  {
   "cell_type": "code",
   "execution_count": null,
   "id": "387fa40c-1923-479d-9239-0108a7911206",
   "metadata": {},
   "outputs": [],
   "source": []
  },
  {
   "cell_type": "code",
   "execution_count": null,
   "id": "e4944a6b-f5e9-4575-963b-45d064ad4a5d",
   "metadata": {},
   "outputs": [],
   "source": [
    "from sklearn.datasets import load_digits\n",
    "from sklearn.ensemble import GradientBoostingClassifier\n",
    "from sklearn.model_selection import train_test_split\n",
    "\n",
    "import neptune.new as neptune\n",
    "import neptune.new.integrations.sklearn as npt_utils\n",
    "\n",
    "run = neptune.init(\n",
    "    project=\"maximilien-vicari/solarcast\",\n",
    "    api_token=\"eyJhcGlfYWRkcmVzcyI6Imh0dHBzOi8vYXBwLm5lcHR1bmUuYWkiLCJhcGlfdXJsIjoiaHR0cHM6Ly9hcHAubmVwdHVuZS5haSIsImFwaV9rZXkiOiI5NTNmZjYyZS00NjFjLTQyYWQtOTFiNy02ZmVjZWEzOGFmNWQifQ==\",\n",
    ")  # your credentials\n",
    "\n",
    "parameters = {\n",
    "    \"n_estimators\": 90,\n",
    "    \"learning_rate\": 0.07,\n",
    "    \"min_samples_split\": 2,\n",
    "    \"min_samples_leaf\": 5,\n",
    "}\n",
    "run[\"parameters\"] = parameters\n",
    "\n",
    "gbc = GradientBoostingClassifier(**parameters)\n",
    "X, y = load_digits(return_X_y=True)\n",
    "X_train, X_test, y_train, y_test = train_test_split(\n",
    "    X, y, test_size=0.20, random_state=28743\n",
    ")\n",
    "gbc.fit(X_train, y_train)\n",
    "\n",
    "# Neptune integration with scikit-learn works with\n",
    "# the regression and classification problems as well.\n",
    "# Check the user guide in the documentation for more details:\n",
    "# https://docs.neptune.ai/integrations-and-supported-tools/model-training/sklearn\n",
    "run[\"classifier\"] = npt_utils.create_classifier_summary(\n",
    "    gbc, X_train, X_test, y_train, y_test\n",
    ")\n",
    "\n",
    "run.stop()"
   ]
  },
  {
   "cell_type": "code",
   "execution_count": null,
   "id": "85d9dc30-fae7-4e1c-bd12-5c984b3be8aa",
   "metadata": {},
   "outputs": [],
   "source": []
  }
 ],
 "metadata": {
  "kernelspec": {
   "display_name": "Python 3 (ipykernel)",
   "language": "python",
   "name": "python3"
  },
  "language_info": {
   "codemirror_mode": {
    "name": "ipython",
    "version": 3
   },
   "file_extension": ".py",
   "mimetype": "text/x-python",
   "name": "python",
   "nbconvert_exporter": "python",
   "pygments_lexer": "ipython3",
   "version": "3.9.2"
  }
 },
 "nbformat": 4,
 "nbformat_minor": 5
}
